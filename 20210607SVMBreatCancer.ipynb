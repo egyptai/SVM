{
  "nbformat": 4,
  "nbformat_minor": 0,
  "metadata": {
    "colab": {
      "name": "20210607SVMBreatCancer.ipynb",
      "provenance": [],
      "authorship_tag": "ABX9TyPszQncCf3KDcYmEa4w1iyE",
      "include_colab_link": true
    },
    "kernelspec": {
      "name": "python3",
      "display_name": "Python 3"
    },
    "language_info": {
      "name": "python"
    }
  },
  "cells": [
    {
      "cell_type": "markdown",
      "metadata": {
        "id": "view-in-github",
        "colab_type": "text"
      },
      "source": [
        "<a href=\"https://colab.research.google.com/github/egyptai/SVM/blob/main/20210607SVMBreatCancer.ipynb\" target=\"_parent\"><img src=\"https://colab.research.google.com/assets/colab-badge.svg\" alt=\"Open In Colab\"/></a>"
      ]
    },
    {
      "cell_type": "code",
      "metadata": {
        "id": "Vuibn9RO5uIR"
      },
      "source": [
        "import matplotlib.pyplot as plt\n",
        "from sklearn.datasets import load_breast_cancer\n",
        "from sklearn.model_selection import train_test_split\n",
        "from sklearn.svm import SVC\n",
        "from sklearn.preprocessing import StandardScaler\n",
        "import numpy as np"
      ],
      "execution_count": 1,
      "outputs": []
    },
    {
      "cell_type": "code",
      "metadata": {
        "id": "YO0Yn5OdM80c"
      },
      "source": [
        "cancer = load_breast_cancer()"
      ],
      "execution_count": 2,
      "outputs": []
    },
    {
      "cell_type": "code",
      "metadata": {
        "id": "ec99xxA3M-uu"
      },
      "source": [
        "feature_data = StandardScaler().fit_transform(cancer.data)"
      ],
      "execution_count": 3,
      "outputs": []
    },
    {
      "cell_type": "code",
      "metadata": {
        "id": "pU7ybrnTNEZu"
      },
      "source": [
        "trainX, testX, trainY, testY = train_test_split(feature_data, cancer.target, test_size = 0.2)"
      ],
      "execution_count": 4,
      "outputs": []
    },
    {
      "cell_type": "code",
      "metadata": {
        "colab": {
          "base_uri": "https://localhost:8080/"
        },
        "id": "6FOu8YheNYKh",
        "outputId": "1cae108f-34fc-4838-b8d1-5f81a417abe5"
      },
      "source": [
        "model = SVC(kernel='rbf', gamma=1.0, C=0.5)\n",
        "model.fit(trainX, trainY)\n",
        "print('정확도 =', np.round(model.score(testX, testY), 3))"
      ],
      "execution_count": 5,
      "outputs": [
        {
          "output_type": "stream",
          "text": [
            "정확도 = 0.64\n"
          ],
          "name": "stdout"
        }
      ]
    },
    {
      "cell_type": "code",
      "metadata": {
        "id": "oSnJJzx5Nkzc"
      },
      "source": [
        "optAcc = -999\n",
        "optG = 0\n",
        "optC = 0\n",
        "for gamma in np.arange(0.1, 5.0, 0.1):\n",
        "  for c in np.arange(0.1, 5.0, 0.1):\n",
        "      model = SVC(kernel='rbf', gamma=gamma, C=c)\n",
        "      model.fit(trainX, trainY)\n",
        "      acc = model.score(testX, testY)\n",
        "\n",
        "      if acc > optAcc:\n",
        "          optG = gamma\n",
        "          optC = c\n",
        "          optAcc = acc"
      ],
      "execution_count": 9,
      "outputs": []
    },
    {
      "cell_type": "code",
      "metadata": {
        "colab": {
          "base_uri": "https://localhost:8080/"
        },
        "id": "VOE8VZdgN8qb",
        "outputId": "59663f54-1e57-4742-be75-9312babb280c"
      },
      "source": [
        "print('Optimal gamma = %2f' %optG)\n",
        "print('optimal C = %2f' %optC)\n",
        "print('optimal Accuarcy = %2f' %optAcc)"
      ],
      "execution_count": 10,
      "outputs": [
        {
          "output_type": "stream",
          "text": [
            "Optimal gamma = 0.100000\n",
            "optimal C = 1.100000\n",
            "optimal Accuarcy = 0.956140\n"
          ],
          "name": "stdout"
        }
      ]
    },
    {
      "cell_type": "code",
      "metadata": {
        "colab": {
          "base_uri": "https://localhost:8080/"
        },
        "id": "bNOIJiPkOW6A",
        "outputId": "a9dd0bce-88aa-4a9b-f4cf-0dbc6e0d760a"
      },
      "source": [
        "model = SVC(kernel='rbf', gamma=optG, C=optC)\n",
        "model.fit(trainX, trainY)"
      ],
      "execution_count": 11,
      "outputs": [
        {
          "output_type": "execute_result",
          "data": {
            "text/plain": [
              "SVC(C=1.1, break_ties=False, cache_size=200, class_weight=None, coef0=0.0,\n",
              "    decision_function_shape='ovr', degree=3, gamma=0.1, kernel='rbf',\n",
              "    max_iter=-1, probability=False, random_state=None, shrinking=True,\n",
              "    tol=0.001, verbose=False)"
            ]
          },
          "metadata": {
            "tags": []
          },
          "execution_count": 11
        }
      ]
    },
    {
      "cell_type": "code",
      "metadata": {
        "colab": {
          "base_uri": "https://localhost:8080/"
        },
        "id": "SQxyT7mtOegO",
        "outputId": "c9c10445-492f-48fe-e05f-7f4f7d4b68aa"
      },
      "source": [
        "print()\n",
        "print(\"*학습용 데이터로 측정한 정확도 = %.2f\" % model.score(trainX, trainY))\n",
        "print(\"*시험용 데이터로 측정한 정확도 = %.2f\" % model.score(testX, testY))"
      ],
      "execution_count": 12,
      "outputs": [
        {
          "output_type": "stream",
          "text": [
            "\n",
            "*학습용 데이터로 측정한 정확도 = 0.99\n",
            "*시험용 데이터로 측정한 정확도 = 0.96\n"
          ],
          "name": "stdout"
        }
      ]
    },
    {
      "cell_type": "code",
      "metadata": {
        "id": "R_8BRzokOvCD"
      },
      "source": [
        ""
      ],
      "execution_count": null,
      "outputs": []
    }
  ]
}